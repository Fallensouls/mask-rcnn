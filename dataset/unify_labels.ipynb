{
 "metadata": {
  "language_info": {
   "codemirror_mode": {
    "name": "ipython",
    "version": 3
   },
   "file_extension": ".py",
   "mimetype": "text/x-python",
   "name": "python",
   "nbconvert_exporter": "python",
   "pygments_lexer": "ipython3",
   "version": "3.6.8-final"
  },
  "orig_nbformat": 2,
  "kernelspec": {
   "name": "python3",
   "display_name": "Python 3",
   "language": "python"
  }
 },
 "nbformat": 4,
 "nbformat_minor": 2,
 "cells": [
  {
   "cell_type": "code",
   "execution_count": 1,
   "metadata": {},
   "outputs": [],
   "source": [
    "%store -r df_train_stored\n",
    "%store -r df_test_stored"
   ]
  },
  {
   "cell_type": "code",
   "execution_count": 2,
   "metadata": {},
   "outputs": [],
   "source": [
    "df_train = df_train_stored.copy()\n",
    "df_test = df_test_stored.copy()"
   ]
  },
  {
   "cell_type": "code",
   "execution_count": 3,
   "metadata": {},
   "outputs": [],
   "source": [
    "import os\n",
    "import pathlib\n",
    "import PIL\n",
    "\n",
    "import pandas as pd\n",
    "import numpy as np\n",
    "import matplotlib as mpl\n",
    "import matplotlib.pyplot as plt"
   ]
  },
  {
   "cell_type": "code",
   "execution_count": 4,
   "metadata": {},
   "outputs": [],
   "source": [
    "MASK_FOLDER = './data/food201/masks_test/'\n",
    "DATA_FOLDER = \"./data/food201/\"\n"
   ]
  },
  {
   "cell_type": "code",
   "execution_count": 5,
   "metadata": {},
   "outputs": [],
   "source": [
    "df_labels_101 = pd.read_csv(DATA_FOLDER + \"multilabel_map.csv\", header=None, names=[\"id\", \"food\"])\n",
    "df_labels_201 = pd.read_csv(DATA_FOLDER + \"pixel_annotations_map.csv\", header=None, names=[\"id\", \"food\"])\n",
    "df_labels = df_labels_201.merge(df_labels_101, on=[\"food\"]).rename(columns={\"id_x\" : \"id\", \"id_y\" : \"id_101\"})\n"
   ]
  },
  {
   "cell_type": "code",
   "execution_count": 6,
   "metadata": {},
   "outputs": [],
   "source": [
    "def unify_labelling(df):\n",
    "    \"\"\"\n",
    "    Replaces 101 labelling with 201.\n",
    "    \"\"\"\n",
    "    for i in range(df.shape[0]):\n",
    "        ids = df.iloc[i]['ids']\n",
    "        new_ids = [int(df_labels.loc[df_labels['id_101'] == int(id), 'id']) for id in ids]\n",
    "        df.iloc[i]['ids'] = new_ids"
   ]
  },
  {
   "cell_type": "code",
   "execution_count": 7,
   "metadata": {},
   "outputs": [],
   "source": [
    "unify_labelling(df_test)\n"
   ]
  },
  {
   "cell_type": "code",
   "execution_count": 8,
   "metadata": {},
   "outputs": [],
   "source": [
    "unify_labelling(df_train)\n"
   ]
  },
  {
   "cell_type": "code",
   "execution_count": 9,
   "metadata": {},
   "outputs": [],
   "source": [
    "df_train.to_csv('train_images_201_labels.csv')\n",
    "df_test.to_csv('test_images_201_labels.csv')"
   ]
  },
  {
   "cell_type": "code",
   "execution_count": null,
   "metadata": {},
   "outputs": [],
   "source": []
  }
 ]
}